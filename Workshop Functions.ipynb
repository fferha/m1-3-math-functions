{
 "cells": [
  {
   "cell_type": "markdown",
   "metadata": {
    "colab_type": "text",
    "id": "aX9oCHrXqhIj"
   },
   "source": [
    "# 1. Math Drills\n",
    "\n",
    "Give an example of a binary relation on a set which is\n",
    "\n",
    "1. Reflexive and symmetric, but not transitive  \n",
    "2. Reflexive, but neither symmetric nor transitive  \n",
    "3. Symmetric, but neither reflexive nor transitive  \n",
    "4. Transitive, but neither reflexive nor symmetric  \n",
    "\n",
    "Recall the definitions from the lectures if you need to!"
   ]
  },
  {
   "cell_type": "markdown",
   "metadata": {},
   "source": [
    "# Exercise 2: A bunch of Math!\n",
    "\n",
    "## Polynomial\n",
    "\n",
    "Consider the polynomial\n",
    "\n",
    "$$\n",
    "p(x)\n",
    "= a_0 + a_1 x + a_2 x^2 + \\cdots a_n x^n\n",
    "= \\sum_{i=0}^n a_i x^i \\tag{1}\n",
    "$$\n",
    "\n",
    "Write a function `p` such that `p(x, coeff)` that computes the value in given a point `x` and a list of coefficients `coeff`.\n",
    "\n",
    "```\n",
    "p(5, [1, 1]) = 1 + 5 = 6\n",
    "p(5, [2, 1, 1]) = 2 + 5 + 25 = 32\n",
    "```"
   ]
  },
  {
   "cell_type": "code",
   "execution_count": 5,
   "metadata": {},
   "outputs": [
    {
     "data": {
      "text/plain": [
       "32"
      ]
     },
     "execution_count": 5,
     "metadata": {},
     "output_type": "execute_result"
    }
   ],
   "source": [
    "import numpy as np\n",
    "from numpy.random import uniform\n",
    "\n",
    "def p(x,coeff):\n",
    "    results = 0\n",
    "    for i in range (len(coeff)):\n",
    "        results += coeff[i] * x**i\n",
    "    return results\n",
    "p(5,[1,1])\n",
    "p(5, [2, 1, 1])"
   ]
  },
  {
   "cell_type": "markdown",
   "metadata": {},
   "source": [
    "# Variance\n",
    "\n",
    "Define a function named `var` that takes a list of numbers and computes the variance. The variance is:\n",
    "\n",
    "$$variance(x) = \\frac{∑_i^N(x_i − average(x))^2}{N-1}$$\n",
    "\n",
    "Don't cheat and use `numpy.var`! You should only use that function to test that your function is correct"
   ]
  },
  {
   "cell_type": "code",
   "execution_count": 22,
   "metadata": {},
   "outputs": [
    {
     "name": "stdout",
     "output_type": "stream",
     "text": [
      "56.916666666666664\n",
      "56.916666666666664\n"
     ]
    }
   ],
   "source": [
    "import math\n",
    "from statistics import mean\n",
    "def var(k):\n",
    "    x=0\n",
    "    t= mean(k)\n",
    "    for i in k:\n",
    "        x += (i-t)** 2\n",
    "    return x/len(k)\n",
    "print(var([11, 22, 33, 25, 32, 30]))\n",
    "import numpy as np\n",
    "print(np.var([11, 22, 33, 25, 32, 30]))"
   ]
  },
  {
   "cell_type": "markdown",
   "metadata": {},
   "source": [
    "# RMSE\n",
    "\n",
    "Calculate the root mean squared error (RMSE) of a machine learning model's output. The function takes in two lists: one with actual values, one with predictions. The formula for RMSE is:\n",
    "\n",
    "$$RMSE(y_1, y_2) = \\sqrt{\\dfrac{1}{N} \\sum_{i=1}^N (y_{1i} - y_{2i})^2}$$\n",
    "\n",
    "```\n",
    "    rmse([1, 2], [1, 2]) = 0\n",
    "    rmse([1, 2, 3], [3, 2, 1]) = 1.63\n",
    "```\n",
    "\n",
    "You can use \n",
    "\n",
    "```\n",
    "sklearn.metrics.mean_squared_error(y_actual, y_predicted, squared=False)\n",
    "```\n",
    "\n",
    "To test your function"
   ]
  },
  {
   "cell_type": "code",
   "execution_count": 36,
   "metadata": {},
   "outputs": [
    {
     "name": "stdout",
     "output_type": "stream",
     "text": [
      "1.632993161855452\n"
     ]
    }
   ],
   "source": [
    "import math\n",
    "from statistics import mean\n",
    "def rmse(k,t):\n",
    "    x=0\n",
    "    for i in range(len(k)):\n",
    "        x += (k[i]-t[i]) ** 2\n",
    "    return math.sqrt(x/len(k))\n",
    "\n",
    "k=[1, 2, 3]\n",
    "t=[3, 2, 1]\n",
    "print(rmse(k,t))"
   ]
  },
  {
   "cell_type": "markdown",
   "metadata": {},
   "source": [
    "# Jaccard Similarity\n",
    "\n",
    "The Jaccard similarity between two sets is the size of intersection divided by the size of union. Write a function that computes it:\n",
    "\n",
    "$$jaccard(A, B) = \\dfrac{|A \\cap B|}{|A \\cup B|}$$\n",
    "\n",
    "\n",
    "```\n",
    "jaccard({'a', 'b', 'c'}, {'a', 'd'}) = 1 / 4\n",
    "```\n",
    "\n"
   ]
  },
  {
   "cell_type": "code",
   "execution_count": 57,
   "metadata": {},
   "outputs": [
    {
     "data": {
      "text/plain": [
       "0.25"
      ]
     },
     "execution_count": 57,
     "metadata": {},
     "output_type": "execute_result"
    }
   ],
   "source": [
    "from fractions import Fraction\n",
    "\n",
    "def jaccard(k,t):\n",
    "    return (len(k.intersection(t))/ len(k.union(t)))\n",
    "\n",
    "jaccard({'a', 'b', 'c'}, {'a', 'd'})"
   ]
  },
  {
   "cell_type": "markdown",
   "metadata": {},
   "source": [
    "# Exercise 3\n",
    "\n",
    "First, write a function that returns one realization of the following random device\n",
    "\n",
    "1. Flip an unbiased coin 10 times.  \n",
    "1. If a head occurs `k` or more times consecutively within this sequence at least once, pay one dollar.  \n",
    "1. If not, pay nothing.  \n",
    "\n",
    "\n",
    "Second, write another function that does the same task except that the second rule of the above random device becomes\n",
    "\n",
    "- If a head occurs `k` or more times within this sequence, pay one dollar.  \n",
    "\n",
    "\n",
    "Use no import besides `from numpy.random import uniform`."
   ]
  },
  {
   "cell_type": "code",
   "execution_count": 59,
   "metadata": {},
   "outputs": [
    {
     "name": "stdout",
     "output_type": "stream",
     "text": [
      "\n",
      "Coin toss results:\n",
      " ['Heads', 'Heads', 'Heads', 'Tails', 'Heads', 'Heads', 'Heads', 'Tails', 'Tails', 'Tails']\n",
      "Consecutive Heads >= 3, therefore: You owe one dollar\n",
      "\n",
      "Coin toss results:\n",
      " ['Heads', 'Heads', 'Tails', 'Heads', 'Heads', 'Tails', 'Heads', 'Heads', 'Tails', 'Heads']\n",
      "Consecutive Heads < 4, therefore: You owe nothing\n"
     ]
    }
   ],
   "source": [
    "from numpy.random import uniform\n",
    "\n",
    "def coin_pay(k):\n",
    "\n",
    "    f = lambda x: \"Heads\" if x >= 0.5 else \"Tails\" \n",
    "    tosses = list(map(f, uniform(0, 1, 10)))\n",
    "\n",
    "    # print out the results of the 10 tosses\n",
    "    print(f\"\\nCoin toss results:\\n {tosses}\")\n",
    "    \n",
    "    # concatonate all the coin tosses\n",
    "    toss_res = ''.join(tosses)\n",
    "    \n",
    "    # create the string text we are seeking\n",
    "    seek = 'Heads' * k\n",
    "    \n",
    "    # check if we achieved the result\n",
    "    if seek in toss_res:\n",
    "        return print(f\"Consecutive Heads >= {k}, therefore: You owe one dollar\")\n",
    "    else:\n",
    "        print(f\"Consecutive Heads < {k}, therefore: You owe nothing\")\n",
    "\n",
    "    return\n",
    "\n",
    "coin_pay(3)\n",
    "coin_pay(4)"
   ]
  },
  {
   "cell_type": "markdown",
   "metadata": {},
   "source": [
    "# Exercise 4: Logistic Map fixed point\n",
    "\n",
    "The **Logistic Map** is a famous function from Chaos Theory which is defined as:\n",
    "\n",
    "$$x_{t+1} = r \\cdot x_t(1−x_t)$$\n",
    "\n",
    "with the conditions:\n",
    "\n",
    "$$x_0 ∈ [0,1], r ∈[0,4]$$\n",
    "\n",
    "Write a lambda $f = logistic(x, r)$, that's successively applied to itself $n$ times through a second function `logistic_n_times(x0, f, r, n)` with the inital point $X_0$\n",
    "\n",
    "Make a few runs of this for various values of `x0` and `r`. Answer the following:\n",
    "\n",
    "- Can you find a fixed point? \n",
    "\n",
    "- At what values of `r` are there fixed points? \n",
    "\n",
    "- Are there any ranges of input for which the function is an attractor?"
   ]
  },
  {
   "cell_type": "code",
   "execution_count": 60,
   "metadata": {},
   "outputs": [
    {
     "name": "stdout",
     "output_type": "stream",
     "text": [
      "0.6239999999999999\n",
      "0.9150336\n",
      "0.303213732397056\n",
      "0.8239731430433197\n",
      "0.5656614700878675\n",
      "0.9581854282490104\n",
      "0.1562578420270566\n",
      "0.5141811824452056\n",
      "0.9742156868513775\n",
      "0.09796598114189749\n",
      "0.3446377259551312\n",
      "0.8808639988340675\n",
      "0.4092761961292813\n",
      "0.9428998465037868\n",
      "0.20997493127099623\n",
      "0.6469532920840729\n",
      "0.8907784467880473\n",
      "0.379439601551093\n",
      "0.9183142422707791\n",
      "0.29255145938235344\n",
      "0.8071639016828737\n",
      "0.6070363162615203\n",
      "0.9303185853045388\n",
      "0.25282106905185137\n",
      "0.7367200467717885\n",
      "0.7564581158798128\n",
      "0.7184940157175683\n",
      "0.7888154238728828\n",
      "0.6496840386391953\n",
      "0.8876192854489735\n",
      "0.38903002923730606\n",
      "0.9269740957968146\n",
      "0.26400317392212125\n",
      "0.7577914425165531\n",
      "0.7158199314444154\n",
      "0.7933448530461786\n",
      "0.6394003090461319\n",
      "0.8992134599675874\n",
      "0.35345159218475924\n",
      "0.8912419002505898\n",
      "0.37802612440439937\n",
      "0.9169772573215367\n",
      "0.29690687081877504\n",
      "0.8141374054295752\n",
      "0.5901389929889012\n",
      "0.9433123515774926\n",
      "0.208549219861451\n",
      "0.6437201267508615\n",
      "0.8944436481501934\n",
      "0.3682154128924691\n",
      "0.9072680081435007\n",
      "0.32811780121701917\n",
      "0.8597803879919586\n",
      "0.4701764824237875\n",
      "0.9715311754175873\n",
      "0.10786756737630333\n",
      "0.3753054056100258\n",
      "0.9143599067066872\n",
      "0.30539288408469933\n",
      "0.827299474697002\n",
      "0.5572127100659594\n",
      "0.962234152646943\n",
      "0.1417243936943741\n",
      "0.47439050071271094\n",
      "0.972442198830392\n",
      "0.10451363818078713\n",
      "0.3650030966985103\n",
      "0.9039257607861321\n",
      "0.33869152111604317\n",
      "0.8735203410965617\n",
      "0.43088196366972187\n",
      "0.9563685185100007\n",
      "0.16273832372064984\n",
      "0.5313927906816469\n",
      "0.9711565215035514\n",
      "0.10924497575422681\n",
      "0.37951099300407226\n",
      "0.9183813568532274\n",
      "0.2923324569268443\n",
      "0.8068093470604402\n",
      "0.6078852957697508\n",
      "0.9296069755310261\n",
      "0.2552076016428289\n",
      "0.7412990586555218\n",
      "0.7479215807386402\n",
      "0.7352860702358102\n",
      "0.7590978140966587\n",
      "0.7131864586482999\n",
      "0.7977509820110873\n",
      "0.6292429755745894\n",
      "0.9098553877320418\n",
      "0.319872388473369\n",
      "0.8484607699062734\n",
      "0.501442858161676\n",
      "0.9749918808252687\n",
      "0.0950925812852877\n",
      "0.33559493085217573\n",
      "0.8695867956301465\n",
      "0.4422818419337772\n",
      "0.9620075954948257\n"
     ]
    },
    {
     "data": {
      "text/plain": [
       "0.9620075954948257"
      ]
     },
     "execution_count": 60,
     "metadata": {},
     "output_type": "execute_result"
    }
   ],
   "source": [
    "def logistic_n_times(x0, f, r, n):\n",
    "    xt1 = f(x0, r)\n",
    "    print(xt1)\n",
    "    for i in range(1, n):\n",
    "        xt1 = f(xt1, r) \n",
    "        print(xt1)\n",
    "    return xt1\n",
    "f = lambda x, r : r * x * (1 - x)\n",
    "# call the function\n",
    "logistic_n_times(0.8, f, 3.9, 100)"
   ]
  },
  {
   "cell_type": "markdown",
   "metadata": {},
   "source": [
    "# Exercise 5 (stretch): Famous Chaos Theory Plot \n",
    "\n",
    "There is a famous plot in chaos theory of the logistic map that relates values of the attractors in $x_t$ for values of $r$, detailing where the function tends to \"end up\" for each value of $r$.\n",
    "\n",
    "<img src=\"logistic map.png\" style=\"width: 400px;\">\n",
    "\n",
    "Reproduce this plot using the `matplotlib` package.\n",
    "\n",
    "**Hint:** Produce samples from the function to fill arrays on the x and y axis!\n",
    "\n",
    "**Hint:** Take the final 50 values in a series of data points produced by the function!"
   ]
  },
  {
   "cell_type": "code",
   "execution_count": null,
   "metadata": {},
   "outputs": [],
   "source": []
  }
 ],
 "metadata": {
  "colab": {
   "authorship_tag": "ABX9TyO6ouX4mUPsrtNoh84NFVy3",
   "collapsed_sections": [],
   "name": "Workshop Functions.ipynb",
   "provenance": []
  },
  "kernelspec": {
   "display_name": "Python 3",
   "language": "python",
   "name": "python3"
  },
  "language_info": {
   "codemirror_mode": {
    "name": "ipython",
    "version": 3
   },
   "file_extension": ".py",
   "mimetype": "text/x-python",
   "name": "python",
   "nbconvert_exporter": "python",
   "pygments_lexer": "ipython3",
   "version": "3.8.3"
  }
 },
 "nbformat": 4,
 "nbformat_minor": 1
}
